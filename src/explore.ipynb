{
    "cells": [
        {
            "cell_type": "code",
            "execution_count": 17,
            "metadata": {},
            "outputs": [
                {
                    "name": "stdout",
                    "output_type": "stream",
                    "text": [
                        "{'external_urls': {'spotify': 'https://open.spotify.com/artist/1Xyo4u8uXC1ZmMpatF05PJ'}, 'followers': {'href': None, 'total': 74127601}, 'genres': ['canadian contemporary r&b', 'canadian pop', 'pop'], 'href': 'https://api.spotify.com/v1/artists/1Xyo4u8uXC1ZmMpatF05PJ', 'id': '1Xyo4u8uXC1ZmMpatF05PJ', 'images': [{'height': 640, 'url': 'https://i.scdn.co/image/ab6761610000e5eb214f3cf1cbe7139c1e26ffbb', 'width': 640}, {'height': 320, 'url': 'https://i.scdn.co/image/ab67616100005174214f3cf1cbe7139c1e26ffbb', 'width': 320}, {'height': 160, 'url': 'https://i.scdn.co/image/ab6761610000f178214f3cf1cbe7139c1e26ffbb', 'width': 160}], 'name': 'The Weeknd', 'popularity': 92, 'type': 'artist', 'uri': 'spotify:artist:1Xyo4u8uXC1ZmMpatF05PJ'}\n",
                        "Starboy\n",
                        "94\n",
                        "3.840883333333333\n",
                        "Die For You\n",
                        "90\n",
                        "4.33755\n",
                        "Popular (with Playboi Carti & Madonna) - Music from the HBO Original Series\n",
                        "92\n",
                        "3.5911\n",
                        "Creepin' (with The Weeknd & 21 Savage)\n",
                        "92\n",
                        "3.692\n",
                        "Blinding Lights\n",
                        "92\n",
                        "3.334\n",
                        "One Of The Girls (with JENNIE, Lily Rose Depp)\n",
                        "90\n",
                        "4.0780666666666665\n",
                        "Stargirl Interlude\n",
                        "88\n",
                        "1.8604333333333334\n",
                        "Die For You (with Ariana Grande) - Remix\n",
                        "83\n",
                        "3.88095\n",
                        "Save Your Tears\n",
                        "89\n",
                        "3.5937666666666668\n",
                        "Reminder\n",
                        "89\n",
                        "3.648\n"
                    ]
                }
            ],
            "source": [
                "from dotenv import load_dotenv\n",
                "load_dotenv()\n",
                "import pandas as pd\n",
                "import os\n",
                "\n",
                "client_id = os.environ.get(\"CLIENT_ID\")\n",
                "client_secret = os.environ.get(\"CLIENT_SECRET\")\n",
                "\n",
                "import spotipy\n",
                "from spotipy.oauth2 import SpotifyClientCredentials\n",
                "\n",
                "sp = spotipy.Spotify(client_credentials_manager=SpotifyClientCredentials(client_id = client_id,\n",
                "                                                              client_secret = client_secret))\n",
                "the_weeknd = 'spotify:artist:1Xyo4u8uXC1ZmMpatF05PJ'\n",
                "\n",
                "artist = sp.artist(the_weeknd)\n",
                "print(artist)\n",
                "\n",
                "track_id = '7MXVkk9YMctZqd1Srtv4MB'\n",
                "top_tracks = sp.artist_top_tracks(the_weeknd)\n",
                "for track in top_tracks['tracks']:\n",
                "    track_name = track['name']\n",
                "    track_popularity = track['popularity']\n",
                "    track_duration = track['duration_ms']\n",
                "    print(track_name)\n",
                "    print(track_popularity)\n",
                "    print(track_duration / 60000)\n",
                "\n",
                "\n",
                "\n",
                "\n"
            ]
        },
        {
            "cell_type": "code",
            "execution_count": 18,
            "metadata": {},
            "outputs": [
                {
                    "name": "stdout",
                    "output_type": "stream",
                    "text": [
                        "                                              Nombre  Popularidad  \\\n",
                        "0                                            Starboy           94   \n",
                        "1                                        Die For You           90   \n",
                        "2  Popular (with Playboi Carti & Madonna) - Music...           92   \n",
                        "3             Creepin' (with The Weeknd & 21 Savage)           92   \n",
                        "4                                    Blinding Lights           92   \n",
                        "5     One Of The Girls (with JENNIE, Lily Rose Depp)           90   \n",
                        "6                                 Stargirl Interlude           88   \n",
                        "7           Die For You (with Ariana Grande) - Remix           83   \n",
                        "8                                    Save Your Tears           89   \n",
                        "9                                           Reminder           89   \n",
                        "\n",
                        "   Duración (min)  \n",
                        "0        3.840883  \n",
                        "1        4.337550  \n",
                        "2        3.591100  \n",
                        "3        3.692000  \n",
                        "4        3.334000  \n",
                        "5        4.078067  \n",
                        "6        1.860433  \n",
                        "7        3.880950  \n",
                        "8        3.593767  \n",
                        "9        3.648000  \n"
                    ]
                }
            ],
            "source": [
                "# CREAR UN DATA FRAME\n",
                "\n",
                "songs_info = []\n",
                "\n",
                "for track in top_tracks['tracks']:\n",
                "    track_name = track['name']\n",
                "    track_popularity = track['popularity']\n",
                "    track_duration_min = track['duration_ms'] / 60000\n",
                "    \n",
                "    songs_info.append({\n",
                "        'Nombre': track_name,\n",
                "        'Popularidad': track_popularity,\n",
                "        'Duración (min)': track_duration_min\n",
                "    })\n",
                "\n",
                "df = pd.DataFrame(songs_info)\n",
                "\n",
                "print(df)"
            ]
        },
        {
            "cell_type": "code",
            "execution_count": 19,
            "metadata": {},
            "outputs": [
                {
                    "data": {
                        "image/png": "[encoded data removed]",
                        "text/plain": [
                            "<Figure size 640x480 with 1 Axes>"
                        ]
                    },
                    "metadata": {},
                    "output_type": "display_data"
                }
            ],
            "source": [
                "import matplotlib.pyplot as plt\n",
                "\n",
                "plt.scatter(df['Popularidad'], df['Duración (min)'])\n",
                "\n",
                "# Etiqueta los ejes y da un título al gráfico\n",
                "plt.xlabel('Popularidad')\n",
                "plt.ylabel('Duración (min)')\n",
                "plt.title('Scatter Plot de Popularidad vs. Duración de Canciones')\n",
                "\n",
                "# Muestra el gráfico\n",
                "plt.show()"
            ]
        }
    ],
    "metadata": {
        "kernelspec": {
            "display_name": "Python 3.8.13 64-bit ('3.8.13')",
            "language": "python",
            "name": "python3"
        },
        "language_info": {
            "codemirror_mode": {
                "name": "ipython",
                "version": 3
            },
            "file_extension": ".py",
            "mimetype": "text/x-python",
            "name": "python",
            "nbconvert_exporter": "python",
            "pygments_lexer": "ipython3",
            "version": "3.11.4"
        },
        "orig_nbformat": 4,
        "vscode": {
            "interpreter": {
                "hash": "110cc1dee26208153f2972f08a2ad52b6a56238dc66d48e87fb757ef2996db56"
            }
        }
    },
    "nbformat": 4,
    "nbformat_minor": 2
}
